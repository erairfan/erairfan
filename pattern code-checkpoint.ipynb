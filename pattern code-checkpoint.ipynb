{
 "cells": [
  {
   "cell_type": "code",
   "execution_count": 25,
   "id": "4ad2cd2f",
   "metadata": {},
   "outputs": [
    {
     "name": "stdout",
     "output_type": "stream",
     "text": [
      "enter numbers3\n",
      "1 2 3 \n",
      "\n",
      "4 5 6 \n",
      "\n",
      "7 8 9 \n",
      "\n"
     ]
    }
   ],
   "source": [
    "a= int(input(\"enter numbers\"))\n",
    "\n",
    "for i in range(a):\n",
    "    for j in range(a):\n",
    "        print(j+1+(i*a), end = \" \")\n",
    "        \n",
    "   \n",
    "      \n",
    "        \n",
    "    print(\"\\n\")"
   ]
  },
  {
   "cell_type": "code",
   "execution_count": 42,
   "id": "8efd6b37",
   "metadata": {},
   "outputs": [
    {
     "name": "stdout",
     "output_type": "stream",
     "text": [
      "enter numbers4\n",
      "0 \n",
      "\n",
      "2 3 \n",
      "\n",
      "4 5 6 \n",
      "\n",
      "6 7 8 9 \n",
      "\n"
     ]
    }
   ],
   "source": [
    "a= int(input(\"enter numbers\"))\n",
    "\n",
    "for i in range(a):\n",
    "    for j in range(i+1):\n",
    "        print(j+(i*2), end = \" \")\n",
    "        \n",
    "   \n",
    "      \n",
    "        \n",
    "    print(\"\\n\")"
   ]
  },
  {
   "cell_type": "code",
   "execution_count": null,
   "id": "b14eb40d",
   "metadata": {},
   "outputs": [],
   "source": [
    "\n",
    "* * * *\n",
    "  * * *\n",
    "    * *\n",
    "      *\n",
    "i=0, j=0\n",
    "i=1, j=0,1"
   ]
  },
  {
   "cell_type": "code",
   "execution_count": 44,
   "id": "04111b59",
   "metadata": {},
   "outputs": [
    {
     "name": "stdout",
     "output_type": "stream",
     "text": [
      "enter numbers4\n",
      "* * * * \n",
      "\n",
      "  * * * \n",
      "\n",
      "    * * \n",
      "\n",
      "      * \n",
      "\n"
     ]
    }
   ],
   "source": [
    "a= int(input(\"enter numbers\"))\n",
    "\n",
    "for i in range(a):\n",
    "    for k in range(i):\n",
    "        print(' ', end = \" \")\n",
    "    for j in range(a-i):\n",
    "        print('*', end = \" \")\n",
    "        \n",
    "   \n",
    "      \n",
    "        \n",
    "    print(\"\\n\")"
   ]
  },
  {
   "cell_type": "code",
   "execution_count": 59,
   "id": "04f57575",
   "metadata": {},
   "outputs": [
    {
     "name": "stdout",
     "output_type": "stream",
     "text": [
      "enter numbers5\n",
      "1 2 3 4 5 \n",
      "\n",
      "1 2 3 4 \n",
      "\n",
      "1 2 3 \n",
      "\n",
      "1 2 \n",
      "\n",
      "1 \n",
      "\n"
     ]
    }
   ],
   "source": [
    "a= int(input(\"enter numbers\"))\n",
    "\n",
    "for i in range(a):\n",
    "   # for k in range(i):\n",
    "       # print(' ', end = \" \")\n",
    "    for j in range(a-i):\n",
    "        print(j+1, end = \" \")\n",
    "    for k in range()\n",
    "        \n",
    "    print(\"\\n\")"
   ]
  },
  {
   "cell_type": "code",
   "execution_count": 57,
   "id": "d9ece6ca",
   "metadata": {},
   "outputs": [
    {
     "ename": "SyntaxError",
     "evalue": "invalid syntax (1152634021.py, line 1)",
     "output_type": "error",
     "traceback": [
      "\u001b[1;36m  Input \u001b[1;32mIn [57]\u001b[1;36m\u001b[0m\n\u001b[1;33m    1 2 3 4 5     5 4 3 2 1\u001b[0m\n\u001b[1;37m      ^\u001b[0m\n\u001b[1;31mSyntaxError\u001b[0m\u001b[1;31m:\u001b[0m invalid syntax\n"
     ]
    }
   ],
   "source": [
    "1 2 3 4 5     5 4 3 2 1 \n",
    "\n",
    "1 2 3 4 *     * 4 3 2 1 \n",
    "\n",
    "1 2 3 * *     * * 3 2 1 \n",
    "\n",
    "1 2 * * *     * * * 2 1 \n",
    "\n",
    "1 * * * *     * * * * 1\n",
    "a=4\n",
    "i=0 j=4\n",
    "i=1 j=3"
   ]
  },
  {
   "cell_type": "code",
   "execution_count": 68,
   "id": "0c670a82",
   "metadata": {},
   "outputs": [
    {
     "name": "stdout",
     "output_type": "stream",
     "text": [
      "enter numbers5\n",
      "1 2 3 4 5 5 4 3 2 1 \n",
      "\n",
      "1 2 3 4 * * 4 3 2 1 \n",
      "\n",
      "1 2 3 * * * * 3 2 1 \n",
      "\n",
      "1 2 * * * * * * 2 1 \n",
      "\n",
      "1 * * * * * * * * 1 \n",
      "\n"
     ]
    }
   ],
   "source": [
    "a= int(input(\"enter numbers\"))\n",
    "\n",
    "for i in range(a):\n",
    "    for j in range(a-i):\n",
    "        print(j+1, end = \" \")\n",
    "    for l in range(i*2):\n",
    "        print('*' , end=\" \")\n",
    "    for k in range(a-i):\n",
    "        print(a-i-k , end=\" \")\n",
    "    \n",
    "   \n",
    "        \n",
    "    print(\"\\n\")"
   ]
  },
  {
   "cell_type": "code",
   "execution_count": 1,
   "id": "4baeaa70",
   "metadata": {},
   "outputs": [
    {
     "name": "stdout",
     "output_type": "stream",
     "text": [
      "enter numbers6\n",
      "                        \n",
      "\n",
      "          * *           \n",
      "\n",
      "        * * * *         \n",
      "\n",
      "      * * * * * *       \n",
      "\n",
      "    * * * * * * * *     \n",
      "\n",
      "  * * * * * * * * * *   \n",
      "\n"
     ]
    }
   ],
   "source": [
    "pattern\n",
    "a= int(input(\"enter numbers\"))\n",
    "\n",
    "for i in range(a):\n",
    "    for j in range(a-i):\n",
    "       print(' ', end = \" \")\n",
    "    for l in range(i*2):\n",
    "        print('*' , end=\" \")\n",
    "    for k in range(a-i):\n",
    "        print(' ' , end=\" \")\n",
    "    \n",
    "   \n",
    "        \n",
    "    print(\"\\n\")"
   ]
  },
  {
   "cell_type": "code",
   "execution_count": null,
   "id": "8847d18a",
   "metadata": {},
   "outputs": [],
   "source": [
    "0 1 1 2 3 5 8 13 21 34 55 89 144 233 377 610"
   ]
  },
  {
   "cell_type": "code",
   "execution_count": 14,
   "id": "b9c7d116",
   "metadata": {},
   "outputs": [
    {
     "name": "stdout",
     "output_type": "stream",
     "text": [
      "enter numbers0\n",
      "0\n"
     ]
    }
   ],
   "source": [
    "#fabonacci series\n",
    "a= int(input(\"enter numbers\"))\n",
    "\n",
    "c= [0, 1]\n",
    "\n",
    "for i in range(a+1):\n",
    "    c.append(c[-1]+c[-2])\n",
    "    print(c[i])"
   ]
  },
  {
   "cell_type": "code",
   "execution_count": 37,
   "id": "62813575",
   "metadata": {},
   "outputs": [
    {
     "name": "stdout",
     "output_type": "stream",
     "text": [
      "enter numbers999999937\n",
      "p\n",
      "153.205072\n"
     ]
    }
   ],
   "source": [
    "#prime number\n",
    "import datetime\n",
    "import math\n",
    "d=datetime.datetime.now()\n",
    "a= int(input(\"enter numbers\"))\n",
    "flag=1\n",
    "#for i in range(2,int(math.sqrt(a)+1)):\n",
    "for i in range(2,a):\n",
    "    if (a%i) ==0:\n",
    "      \n",
    "        flag=0\n",
    "        break\n",
    "        \n",
    "if flag==1:\n",
    "    print(\"p\")\n",
    "if flag==0:\n",
    "    print(\"np\")\n",
    "p=datetime.datetime.now()\n",
    "print((p-d).total_seconds())\n",
    "        "
   ]
  },
  {
   "cell_type": "code",
   "execution_count": null,
   "id": "0b3415e6",
   "metadata": {},
   "outputs": [],
   "source": [
    "123\n",
    "1*2*3 - (1+2+3)"
   ]
  },
  {
   "cell_type": "code",
   "execution_count": 50,
   "id": "512fd480",
   "metadata": {},
   "outputs": [
    {
     "ename": "ValueError",
     "evalue": "invalid literal for int() with base 10: ''",
     "output_type": "error",
     "traceback": [
      "\u001b[1;31m---------------------------------------------------------------------------\u001b[0m",
      "\u001b[1;31mValueError\u001b[0m                                Traceback (most recent call last)",
      "Input \u001b[1;32mIn [50]\u001b[0m, in \u001b[0;36m<cell line: 6>\u001b[1;34m()\u001b[0m\n\u001b[0;32m      8\u001b[0m \u001b[38;5;28;01mif\u001b[39;00m (\u001b[38;5;28mint\u001b[39m(a)\u001b[38;5;241m%\u001b[39m\u001b[38;5;241m10\u001b[39m)\u001b[38;5;241m==\u001b[39mt:\n\u001b[0;32m      9\u001b[0m     \u001b[38;5;28mprint\u001b[39m(t)\n\u001b[1;32m---> 10\u001b[0m \u001b[38;5;28;01mif\u001b[39;00m (\u001b[38;5;28;43mint\u001b[39;49m\u001b[43m(\u001b[49m\u001b[43mt\u001b[49m\u001b[43m)\u001b[49m\u001b[38;5;241m%\u001b[39m\u001b[38;5;241m10\u001b[39m)\u001b[38;5;241m==\u001b[39mq:\n\u001b[0;32m     11\u001b[0m     \u001b[38;5;28mprint\u001b[39m(q)\n",
      "\u001b[1;31mValueError\u001b[0m: invalid literal for int() with base 10: ''"
     ]
    }
   ],
   "source": [
    "a= \"123\"\n",
    "p=0\n",
    "s=0\n",
    "t=''\n",
    "q=''\n",
    "for i in a:\n",
    "    \n",
    "    if (int(a)%10)==t:\n",
    "        print(t)\n",
    "    if (int(t)%10)==q:\n",
    "        print(q)\n",
    " \n",
    "    \n",
    "    \n",
    "    "
   ]
  },
  {
   "cell_type": "code",
   "execution_count": 58,
   "id": "6736262c",
   "metadata": {},
   "outputs": [
    {
     "name": "stdout",
     "output_type": "stream",
     "text": [
      "10\n",
      "24\n",
      "14\n"
     ]
    }
   ],
   "source": [
    "def sumofnumber(n):\n",
    "    sum=0\n",
    "    for digit in str(n):\n",
    "        sum+=int(digit)\n",
    "    return sum\n",
    "\n",
    "\n",
    "def productofnumber(n):\n",
    "    prod=1\n",
    "    for digit in str(n):\n",
    "        prod*=int(digit)\n",
    "    return prod\n",
    "n=1234\n",
    "print(sumofnumber(n))\n",
    "print(productofnumber(n))\n",
    "print(productofnumber(n)-sumofnumber(n))\n",
    "\n",
    "\n",
    "    "
   ]
  },
  {
   "cell_type": "code",
   "execution_count": 65,
   "id": "2aa7d10e",
   "metadata": {},
   "outputs": [
    {
     "name": "stdout",
     "output_type": "stream",
     "text": [
      "inf\n"
     ]
    }
   ],
   "source": [
    "a=123\n",
    "r=0\n",
    "while a!=0:\n",
    "    r=(r*10)+a%10\n",
    "    a=a/10\n",
    "print(r)\n",
    "    \n",
    "    \n",
    "    "
   ]
  },
  {
   "cell_type": "code",
   "execution_count": 60,
   "id": "d8c698a3",
   "metadata": {},
   "outputs": [
    {
     "name": "stdout",
     "output_type": "stream",
     "text": [
      "3\n"
     ]
    }
   ],
   "source": [
    "a=123%10\n",
    "print(a)\n"
   ]
  },
  {
   "cell_type": "code",
   "execution_count": 72,
   "id": "9004693a",
   "metadata": {},
   "outputs": [
    {
     "name": "stdout",
     "output_type": "stream",
     "text": [
      "6 6 0\n"
     ]
    }
   ],
   "source": [
    "a=123\n",
    "r=0\n",
    "s=0\n",
    "p=1\n",
    "while a!=0:\n",
    "    #r=(r*10)+(a%10)\n",
    "    s+=a%10\n",
    "    p*=a%10\n",
    "    a=a//10\n",
    "    \n",
    "print(s,p,p-s)\n",
    "\n",
    "\n"
   ]
  },
  {
   "cell_type": "code",
   "execution_count": null,
   "id": "d58a4451",
   "metadata": {},
   "outputs": [],
   "source": [
    "35\n",
    "1101\n",
    "10 0\n",
    "5 1\n",
    "2 0\n",
    "1 \n"
   ]
  },
  {
   "cell_type": "code",
   "execution_count": 83,
   "id": "ab6bdffd",
   "metadata": {},
   "outputs": [
    {
     "name": "stdout",
     "output_type": "stream",
     "text": [
      "3\n",
      "2\n",
      "1\n",
      "0\n",
      "1010\n"
     ]
    }
   ],
   "source": [
    "\n",
    "#decimal to binary\n",
    "a=10\n",
    "s=[]\n",
    "while(a>0):\n",
    "    \n",
    "    s.append(a%2)\n",
    "    a=a//2\n",
    "b=''   \n",
    "for i in range(len(s)-1,-1,-1):\n",
    "    b=b+str(s[i])\n",
    "    print(i)\n",
    "print(b)\n",
    "    \n",
    "    \n",
    "    \n",
    "    \n",
    "    \n",
    "\n",
    "    "
   ]
  },
  {
   "cell_type": "code",
   "execution_count": 88,
   "id": "a9170e72",
   "metadata": {},
   "outputs": [
    {
     "data": {
      "text/plain": [
       "8"
      ]
     },
     "execution_count": 88,
     "metadata": {},
     "output_type": "execute_result"
    }
   ],
   "source": [
    "import math\n",
    "int(math.pow(2,3))\n"
   ]
  },
  {
   "cell_type": "code",
   "execution_count": 89,
   "id": "44382745",
   "metadata": {},
   "outputs": [
    {
     "name": "stdout",
     "output_type": "stream",
     "text": [
      "10\n"
     ]
    }
   ],
   "source": [
    "a='1010'\n",
    "a=a[::-1]\n",
    "p=0\n",
    "import math\n",
    "for i in range(len(a)):\n",
    "    p=p+(int((math.pow(2,i))*int(a[i])))\n",
    "print(p)\n",
    "    \n",
    "\n"
   ]
  },
  {
   "cell_type": "code",
   "execution_count": 94,
   "id": "799ac93c",
   "metadata": {},
   "outputs": [
    {
     "name": "stdout",
     "output_type": "stream",
     "text": [
      "16\n"
     ]
    }
   ],
   "source": [
    "def pow(n,p):\n",
    "    s=1\n",
    "    for i in range(p):\n",
    "        s=n*s\n",
    "    return s\n",
    "\n",
    "print(pow(2,4))\n",
    "    "
   ]
  },
  {
   "cell_type": "code",
   "execution_count": 97,
   "id": "7bc7853c",
   "metadata": {},
   "outputs": [
    {
     "name": "stdout",
     "output_type": "stream",
     "text": [
      "4\n",
      "6\n",
      "7\n"
     ]
    }
   ],
   "source": [
    "l=[2,3,5,8]\n",
    "for i in range(min(l),max(l)):\n",
    "    if i not in l:\n",
    "        print(i)\n",
    "\n"
   ]
  },
  {
   "cell_type": "code",
   "execution_count": 111,
   "id": "4f017df9",
   "metadata": {},
   "outputs": [
    {
     "name": "stdout",
     "output_type": "stream",
     "text": [
      "[2, 3, 1, 2, 1]\n"
     ]
    }
   ],
   "source": [
    "#train problem\n",
    "#qr=[900,915,1000,1015,1030]\n",
    "#de=[930,1040,1010,1025,1045]\n",
    "ar=[900,915,1000,1015,1020]\n",
    "de=[930,1040,1010,1025,1045]\n",
    "q=[]\n",
    "for i in range(len(ar)):\n",
    "    p=1\n",
    "    t=ar[i]\n",
    "    d=de[i]\n",
    "    da=10000\n",
    "    for j in range(i+1,len(ar)):\n",
    "        ta=ar[j]\n",
    "        \n",
    "        if ta>=t and ta=<d:\n",
    "            if da<ta: \n",
    "                da=de[j]\n",
    "                continue\n",
    "            \n",
    "            p+=1\n",
    "            da=de[j]\n",
    "            \n",
    "    q.append(p)\n",
    "print(q)\n",
    "            \n",
    "        \n",
    "\n",
    "\n"
   ]
  },
  {
   "cell_type": "code",
   "execution_count": 118,
   "id": "281c07f3",
   "metadata": {},
   "outputs": [
    {
     "name": "stdout",
     "output_type": "stream",
     "text": [
      "enter any number32\n",
      "5\n"
     ]
    }
   ],
   "source": [
    "#power of two\n",
    "\n",
    "n=int(input(\"enter any number\"))\n",
    "p=0\n",
    "flag=1\n",
    "while (n!=1):\n",
    "    if (n%2)!=0:\n",
    "        flag=0\n",
    "        break\n",
    "    \n",
    " \n",
    "    n=n//2\n",
    "    p+=1\n",
    "if flag==1:\n",
    "    print(p)\n",
    "else:\n",
    "    print(\"not possible\")   \n",
    "        \n",
    "\n"
   ]
  },
  {
   "cell_type": "code",
   "execution_count": null,
   "id": "bb4b8a9e",
   "metadata": {},
   "outputs": [],
   "source": [
    "64\n",
    "2,p"
   ]
  },
  {
   "cell_type": "code",
   "execution_count": 124,
   "id": "5a005560",
   "metadata": {},
   "outputs": [
    {
     "name": "stdout",
     "output_type": "stream",
     "text": [
      "{200: 6, 100: 1, 20: 2, 10: 1}\n"
     ]
    }
   ],
   "source": [
    "#n=int(input(\"enter any number\"))\n",
    "n=1350\n",
    "list1=[200,100,20,10]\n",
    "dictcount={}\n",
    "for i in list1:\n",
    "    dictcount[i]=0\n",
    "for i in list1:\n",
    "    dictcount[i]=n//i\n",
    "    n=n%i\n",
    "    \n",
    "print(dictcount)\n",
    "    \n"
   ]
  },
  {
   "cell_type": "code",
   "execution_count": null,
   "id": "80726182",
   "metadata": {},
   "outputs": [],
   "source": [
    "function(n):\n",
    "    convert itinto binary\n",
    "    count 1st"
   ]
  },
  {
   "cell_type": "code",
   "execution_count": 14,
   "id": "58781082",
   "metadata": {},
   "outputs": [
    {
     "name": "stdout",
     "output_type": "stream",
     "text": [
      "enter an integer8\n",
      "3\n"
     ]
    }
   ],
   "source": [
    "def convtobinary(n):\n",
    "    s=[]\n",
    "    while (n!=0):\n",
    "        s.append(n%2)\n",
    "        n=n//2\n",
    "    y=''\n",
    "    for i in range(len(s)-1,-1,-1):\n",
    "        y=y+str(s[i])\n",
    "    return y\n",
    "\n",
    "def countone(y):\n",
    "    c=0\n",
    "    for i in y:\n",
    "        if i=='1':\n",
    "            c=c+1\n",
    "    return c\n",
    "def countzero(y):\n",
    "    c=0\n",
    "    for i in y:\n",
    "        if i=='0':\n",
    "            c=c+1\n",
    "    return c        \n",
    "a=int(input(\"enter an integer\"))     \n",
    "z=convtobinary(a)\n",
    "w=countone(z)\n",
    "x=countzero(z)\n",
    "\n",
    "print(x)\n",
    "\n",
    "\n",
    "    \n",
    "        "
   ]
  },
  {
   "cell_type": "code",
   "execution_count": null,
   "id": "aa21e4c0",
   "metadata": {},
   "outputs": [],
   "source": []
  },
  {
   "cell_type": "code",
   "execution_count": null,
   "id": "6796d60b",
   "metadata": {},
   "outputs": [],
   "source": []
  }
 ],
 "metadata": {
  "kernelspec": {
   "display_name": "Python 3 (ipykernel)",
   "language": "python",
   "name": "python3"
  },
  "language_info": {
   "codemirror_mode": {
    "name": "ipython",
    "version": 3
   },
   "file_extension": ".py",
   "mimetype": "text/x-python",
   "name": "python",
   "nbconvert_exporter": "python",
   "pygments_lexer": "ipython3",
   "version": "3.9.12"
  }
 },
 "nbformat": 4,
 "nbformat_minor": 5
}
